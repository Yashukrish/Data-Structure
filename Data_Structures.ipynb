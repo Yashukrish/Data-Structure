{
  "nbformat": 4,
  "nbformat_minor": 0,
  "metadata": {
    "colab": {
      "provenance": []
    },
    "kernelspec": {
      "name": "python3",
      "display_name": "Python 3"
    },
    "language_info": {
      "name": "python"
    }
  },
  "cells": [
    {
      "cell_type": "code",
      "execution_count": null,
      "metadata": {
        "id": "ZApEKp2uZmAa"
      },
      "outputs": [],
      "source": []
    },
    {
      "cell_type": "markdown",
      "source": [
        "1)  What are data structures, and why are they important ?\n",
        "  \n",
        "    -> Data Structures are special formats for storing , Organising & Accessing the data. they are important because data manipulatiions ( Adding,removing & Modifing the elements),Optimising the search & Sorting operations\n",
        "\n",
        "2)  Explain the difference between mutable and immutable data types with\n",
        "    examples ?\n",
        "    \n",
        "    -> 1) Mutable Data Type can modify after their creation operations like adding or removing elements without any affect of the  memory location. List , Dictionary & Sets are the Mutable data types. 2) Immutable Data Type cannot be modifiy after their creation. Tuples, String, float & Integers are Immutable data types.\n",
        "\n",
        "3)   What are the main differences between lists and tuples in Python\n",
        "\n",
        "    -> List :- these are Mutable data types , which can be defined in \" [ ] \",\n",
        "                It is can be sutiable to modify the Data structure Frequently ( Modify , Update & Reorder the elements )\n",
        "       Tuples :- These are Immutable data types, Which can be defined in \" ( )\",\n",
        "                 These can be suitable when the Data is Fixed & Unchangable.\n",
        "\n",
        " 4)   Describe how dictionaries store data\n",
        "\n",
        "     -> Dictionaries in Python store data using key & value pairs.\n",
        "        Keys: These are unique identifiers used to access values. Keys must be immutable (e.g., strings, numbers, tuples)\n",
        "        Values: These can be any data type (strings, lists, even other dictionaries).\n",
        "        Dictionaries use a hash table, where keys are converted into hash values to determine where the associated value is stored\n",
        "5)    Why might you use a set instead of a list in Python\n",
        "  \n",
        "     -> We can use a set instead of a list when you need unique element.\n",
        "\n",
        "6)   What is a string in Python, and how is it different from a list.\n",
        "\n",
        "     -> A string in Python is a sequence of characters enclosed in quotes, whereas a list is a collection of elements (which can be of different data types).Use a string when dealing with text or immutable sequences of characters.Use a list when working with a collection of elements that need to be modified dynamically.\n",
        "\n",
        "7)    How do tuples ensure data integrity in Python\n",
        "\n",
        "      -> they are immutable, means once they are created, their values cannot be altered, added, or removed. This makes them ideal for situations where data consistency and protection.\n",
        "\n",
        "8)    What is a hash table, and how does it relate to dictionaries in      Python\n",
        "\n",
        "     -> A hash table is a data structure that stores key-value pairs efficiently by using a hash function to map keys to indices in an array. This allows for insertions, and deletions, typically with an time complexity\n",
        "\n",
        "9)    Can lists contain different data types in Python\n",
        "\n",
        "      -> Lists can contain different data types within the same list. This flexibility makes lists incredibly powerful for storing heterogeneous data.\n",
        "\n",
        "10)   Explain why strings are immutable in Python\n",
        "\n",
        "    -> Strings in Python are immutable, means once a string is created, its contents cannot be changed. This improves performance, security, and consistency in program.\n",
        "\n",
        "11)   What advantages do dictionaries offer over lists for certain tasks\n",
        "\n",
        "    -> Dictionaries uses Hash table to retrive the data faster when compared to List. They store the data in the form of Keys & Values.it allow the data  modifications without affecting the structure. Keys must be unique, ensuring better data integrity.\n",
        "\n",
        "12)  Describe a scenario where using a tuple would be preferable over a list\n",
        "\n",
        "    -> A tuple is preferable over a list when you need to ensure that data remains unchanged after it is assigned. A great example is when you’re working with constant values or function return values that should not be accidentally modified.\n",
        "\n",
        "13)  How do sets handle duplicate values in Python\n",
        "\n",
        "    -> It can automatically remove duplicate values when they are created or updated. This makes them useful for storing unique elements without extra effort.\n",
        "\n",
        "14)  How does the “in” keyword work differently for lists and dictionaries\n",
        "\n",
        "    -> in keyword is used to check whether an element/Value  exists within a list or a dictionary. In Lists – checkes if a specific value exist. in Dictionary - Checks if a key exists.\n",
        "\n",
        "15)   Can you modify the elements of a tuple? Explain why or why not\n",
        "\n",
        "    -> We cannot modify the elements of a tuple in Python because tuples are immutable. Once a tuple is created, its elements cannot be changed, added, or removed.We can modify the elements when it contain mutable object like Lits.\n",
        "\n",
        "16)   What is a nested dictionary, and give an example of its use case.\n",
        "\n",
        "    -> A nested dictionary that contains another dictionary as one or more of its values. This allows for a hierarchical structure of data, making it useful for storing complex.\n",
        "\n",
        "\n",
        "17)  Describe the time complexity of accessing elements in a dictionary\n",
        "\n",
        "    -> Accessing elements in a Python dictionary is highly efficient due to its underlying hash table implementation.\n",
        "\n",
        "18)  In what situations are lists preferred over dictionaries\n",
        "\n",
        "    -> Lists are preferred over dictionaries in use case like  where ordering, sequential processing, and handling duplicate values are essential.\n",
        "\n",
        "19) Why are dictionaries considered unordered, and how does that affect data retrieval.\n",
        "\n",
        "    -> it considered as an unordered because they store key-value pairs using a hash table, which does not guarantee a specific order when inserting or retrieving items. From, since Python 3.7 Version, dictionaries maintain insertion order—meaning elements are stored in the order they were added.\n",
        "\n",
        "20) Explain the difference between a list and a dictionary in terms of data retrieval.\n",
        "\n",
        "    -> A list and a dictionary in Python have different approaches to data retrieval, based on indexing &  key-Value.Lists are best when working with sequences of values. Dictionaries are best when you need structured data using key-value pairs.\n",
        "    "
      ],
      "metadata": {
        "id": "bNnKybgDZs8H"
      }
    },
    {
      "cell_type": "code",
      "source": [
        "# Write a code to create a string with your name and print it ?\n",
        "\n",
        "Name = \" Yaswanth Krishna\"\n",
        "print(Name)"
      ],
      "metadata": {
        "colab": {
          "base_uri": "https://localhost:8080/"
        },
        "id": "R6UYZ7MZm7cR",
        "outputId": "f67e72c3-584c-4b4b-c7a1-c86a3156dbcc"
      },
      "execution_count": 1,
      "outputs": [
        {
          "output_type": "stream",
          "name": "stdout",
          "text": [
            " Yaswanth Krishna\n"
          ]
        }
      ]
    },
    {
      "cell_type": "code",
      "source": [
        "# Write a code to find the length of the string \"Hello World\"\n",
        "\n",
        "Name = \"PWSKILLS\"\n",
        "length = len(Name)\n",
        "print(length)"
      ],
      "metadata": {
        "colab": {
          "base_uri": "https://localhost:8080/"
        },
        "id": "KQ0Bfk4tnSZp",
        "outputId": "4f239ac7-3558-4b69-d155-9bd202361966"
      },
      "execution_count": 2,
      "outputs": [
        {
          "output_type": "stream",
          "name": "stdout",
          "text": [
            "8\n"
          ]
        }
      ]
    },
    {
      "cell_type": "code",
      "source": [
        "# Write a code to slice the first 3 characters from the string \"Python Programming\"\n",
        "\n",
        "Text = \"Python programming\"\n",
        "slice = Text[:3]\n",
        "print(slice)"
      ],
      "metadata": {
        "colab": {
          "base_uri": "https://localhost:8080/"
        },
        "id": "vOLWSmoInoAg",
        "outputId": "9b2e5d52-98b7-4c08-8dd9-b060a2890aec"
      },
      "execution_count": 3,
      "outputs": [
        {
          "output_type": "stream",
          "name": "stdout",
          "text": [
            "Pyt\n"
          ]
        }
      ]
    },
    {
      "cell_type": "code",
      "source": [
        "# Write a code to convert the string \"hello\" to uppercase\n",
        "\n",
        "text=\"pwskills\"\n",
        "uppercase=text.upper()\n",
        "print(uppercase)"
      ],
      "metadata": {
        "colab": {
          "base_uri": "https://localhost:8080/"
        },
        "id": "fkGxdF8OoCOv",
        "outputId": "82e41258-9021-4e07-c522-c9d9605332a2"
      },
      "execution_count": 4,
      "outputs": [
        {
          "output_type": "stream",
          "name": "stdout",
          "text": [
            "PWSKILLS\n"
          ]
        }
      ]
    },
    {
      "cell_type": "code",
      "source": [
        "#  Write a code to replace the word \"apple\" with \"orange\" in the string \"I like apple\"\n",
        "\n",
        "A=\"I Like Apple\"\n",
        "Change=A.replace(\"Apple\",\"Orange\")\n",
        "print(Change)"
      ],
      "metadata": {
        "colab": {
          "base_uri": "https://localhost:8080/"
        },
        "id": "5w6TH8iSoXrY",
        "outputId": "939d81b3-bdac-41b8-f7ec-0c222d6c044e"
      },
      "execution_count": 6,
      "outputs": [
        {
          "output_type": "stream",
          "name": "stdout",
          "text": [
            "I Like Orange\n"
          ]
        }
      ]
    },
    {
      "cell_type": "code",
      "source": [
        "# Write a code to create a list with numbers 1 to 5 and print it\n",
        "\n",
        "Numbers = [1,2,3,4,5,6]\n",
        "print(Numbers)"
      ],
      "metadata": {
        "colab": {
          "base_uri": "https://localhost:8080/"
        },
        "id": "QoIUK_eXo9gd",
        "outputId": "1bd09cf2-a32e-46b3-9cb8-fbbee6f0ef9a"
      },
      "execution_count": 7,
      "outputs": [
        {
          "output_type": "stream",
          "name": "stdout",
          "text": [
            "[1, 2, 3, 4, 5, 6]\n"
          ]
        }
      ]
    },
    {
      "cell_type": "code",
      "source": [
        "# Write a code to append the number 10 to the list [1, 2, 3, 4]\n",
        "\n",
        "number=[1,2,3,4,5]\n",
        "number.append(10)\n",
        "print(number)"
      ],
      "metadata": {
        "colab": {
          "base_uri": "https://localhost:8080/"
        },
        "id": "dxxu1ByvpK4e",
        "outputId": "6d6d0bfb-2675-4b48-af79-2b63acfc83c9"
      },
      "execution_count": 8,
      "outputs": [
        {
          "output_type": "stream",
          "name": "stdout",
          "text": [
            "[1, 2, 3, 4, 5, 10]\n"
          ]
        }
      ]
    },
    {
      "cell_type": "code",
      "source": [
        "# Write a code to remove the number 3 from the list [1, 2, 3, 4, 5]\n",
        "\n",
        "number=[1,2,3,4,5]\n",
        "number.remove(3)\n",
        "print(number)"
      ],
      "metadata": {
        "colab": {
          "base_uri": "https://localhost:8080/"
        },
        "id": "ObWXqT6Xpftn",
        "outputId": "031abd8f-58c5-414b-bb28-8d6b2229281b"
      },
      "execution_count": 10,
      "outputs": [
        {
          "output_type": "stream",
          "name": "stdout",
          "text": [
            "[1, 2, 4, 5]\n"
          ]
        }
      ]
    },
    {
      "cell_type": "code",
      "source": [
        "# Write a code to access the second element in the list ['a', 'b', 'c', 'd']\n",
        "\n",
        "my_list = ['a', 'b', 'c', 'd']\n",
        "second_element = my_list[1]\n",
        "print(second_element)"
      ],
      "metadata": {
        "colab": {
          "base_uri": "https://localhost:8080/"
        },
        "id": "G7ZNhqbOptc9",
        "outputId": "aa594488-eb65-4619-fbed-42715f357caa"
      },
      "execution_count": 17,
      "outputs": [
        {
          "output_type": "stream",
          "name": "stdout",
          "text": [
            "b\n"
          ]
        }
      ]
    },
    {
      "cell_type": "code",
      "source": [
        "# Write a code to reverse the list [10, 20, 30, 40, 50]\n",
        "\n",
        "numbers = [10, 20, 30, 40, 50]\n",
        "numbers.reverse()\n",
        "print(numbers)"
      ],
      "metadata": {
        "colab": {
          "base_uri": "https://localhost:8080/"
        },
        "id": "ToZRMipJqDdB",
        "outputId": "938c4029-92b4-4a23-b097-5e6cb0aa0457"
      },
      "execution_count": 18,
      "outputs": [
        {
          "output_type": "stream",
          "name": "stdout",
          "text": [
            "[50, 40, 30, 20, 10]\n"
          ]
        }
      ]
    },
    {
      "cell_type": "code",
      "source": [
        "# Write a code to create a tuple with the elements 100, 200, 300 and print it\n",
        "\n",
        "my_tuple=(100,200,300)\n",
        "print(my_tuple)"
      ],
      "metadata": {
        "colab": {
          "base_uri": "https://localhost:8080/"
        },
        "id": "BMjUhvl9rHKA",
        "outputId": "3b518963-946d-439e-8b52-4226e8fcb554"
      },
      "execution_count": 19,
      "outputs": [
        {
          "output_type": "stream",
          "name": "stdout",
          "text": [
            "(100, 200, 300)\n"
          ]
        }
      ]
    },
    {
      "cell_type": "code",
      "source": [
        "#  Write a code to access the second-to-last element of the tuple ('red', 'green', 'blue', 'yellow')\n",
        "\n",
        "colors = ('red', 'green', 'blue', 'yellow')\n",
        "second_to_last = colors[-2]\n",
        "print(second_to_last)\n"
      ],
      "metadata": {
        "colab": {
          "base_uri": "https://localhost:8080/"
        },
        "id": "wJ9s936VrXVI",
        "outputId": "5176b134-dc57-4f37-b60f-8df511ddb6c2"
      },
      "execution_count": 23,
      "outputs": [
        {
          "output_type": "stream",
          "name": "stdout",
          "text": [
            "blue\n"
          ]
        }
      ]
    },
    {
      "cell_type": "code",
      "source": [
        "# Write a code to find the minimum number in the tuple (10, 20, 5, 15)\n",
        "\n",
        "numbers = (10, 20, 5, 15)\n",
        "min_value = min(numbers)\n",
        "print(min_value)\n"
      ],
      "metadata": {
        "colab": {
          "base_uri": "https://localhost:8080/"
        },
        "id": "4fOhfP15roPX",
        "outputId": "ecfdadb7-acee-4a66-e1af-e80a8e36daf8"
      },
      "execution_count": 24,
      "outputs": [
        {
          "output_type": "stream",
          "name": "stdout",
          "text": [
            "5\n"
          ]
        }
      ]
    },
    {
      "cell_type": "code",
      "source": [
        "# Write a code to find the index of the element \"cat\" in the tuple ('dog', 'cat', 'rabbit')\n",
        "\n",
        "animals = ('dog', 'cat', 'rabbit')\n",
        "index_of_cat = animals.index(\"cat\")\n",
        "print(index_of_cat)\n"
      ],
      "metadata": {
        "colab": {
          "base_uri": "https://localhost:8080/"
        },
        "id": "sYfQIpo3sJ77",
        "outputId": "cea8c313-40e0-4920-d160-3158f2a1f8b1"
      },
      "execution_count": 25,
      "outputs": [
        {
          "output_type": "stream",
          "name": "stdout",
          "text": [
            "1\n"
          ]
        }
      ]
    },
    {
      "cell_type": "code",
      "source": [
        "# Write a code to create a tuple containing three different fruits and check if \"kiwi\" is in it\n",
        "\n",
        "fruits = (\"apple\", \"banana\", \"orange\")\n",
        "if \"kiwi\" in fruits:\n",
        "    print(\"Kiwi is in the tuple!\")\n",
        "else:\n",
        "    print(\"Kiwi is not in the tuple.\")\n"
      ],
      "metadata": {
        "colab": {
          "base_uri": "https://localhost:8080/"
        },
        "id": "q8lU2eFPsTGD",
        "outputId": "bc980807-6100-4ddd-f99c-be3a3837be99"
      },
      "execution_count": 26,
      "outputs": [
        {
          "output_type": "stream",
          "name": "stdout",
          "text": [
            "Kiwi is not in the tuple.\n"
          ]
        }
      ]
    },
    {
      "cell_type": "code",
      "source": [
        "# Write a code to create a set with the elements 'a', 'b', 'c' and print it\n",
        "\n",
        "my_set = {'a', 'b', 'c'}\n",
        "print(my_set)\n"
      ],
      "metadata": {
        "colab": {
          "base_uri": "https://localhost:8080/"
        },
        "id": "_WAbif3IsdLK",
        "outputId": "0686d419-698b-468d-d5d9-ce9dae84ad84"
      },
      "execution_count": 28,
      "outputs": [
        {
          "output_type": "stream",
          "name": "stdout",
          "text": [
            "{'b', 'c', 'a'}\n"
          ]
        }
      ]
    },
    {
      "cell_type": "code",
      "source": [
        "# Write a code to clear all elements from the set {1, 2, 3, 4, 5}\n",
        "\n",
        "my_set = {1, 2, 3, 4, 5}\n",
        "my_set.clear()\n",
        "print(my_set)\n"
      ],
      "metadata": {
        "colab": {
          "base_uri": "https://localhost:8080/"
        },
        "id": "9IGcFD05smXR",
        "outputId": "b5381d82-005f-4557-de56-59276edab877"
      },
      "execution_count": 29,
      "outputs": [
        {
          "output_type": "stream",
          "name": "stdout",
          "text": [
            "set()\n"
          ]
        }
      ]
    },
    {
      "cell_type": "code",
      "source": [
        "# Write a code to remove the element 4 from the set {1, 2, 3, 4}\n",
        "\n",
        "my_set = {1, 2, 3, 4}\n",
        "my_set.remove(4)\n",
        "print(my_set)\n"
      ],
      "metadata": {
        "colab": {
          "base_uri": "https://localhost:8080/"
        },
        "id": "S0IXSPBOs1T7",
        "outputId": "5aefcfe5-fd5a-434e-a091-ef586f8c6147"
      },
      "execution_count": 30,
      "outputs": [
        {
          "output_type": "stream",
          "name": "stdout",
          "text": [
            "{1, 2, 3}\n"
          ]
        }
      ]
    },
    {
      "cell_type": "code",
      "source": [
        "# Write a code to find the union of two sets {1, 2, 3} and {3, 4, 5}\n",
        "\n",
        "set1 = {1, 2, 3}\n",
        "set2 = {3, 4, 5}\n",
        "union_set = set1.union(set2)\n",
        "print(union_set)\n"
      ],
      "metadata": {
        "colab": {
          "base_uri": "https://localhost:8080/"
        },
        "id": "D5vBNau9s-e2",
        "outputId": "2158e9e0-116a-48df-cdef-f67128ad921d"
      },
      "execution_count": 31,
      "outputs": [
        {
          "output_type": "stream",
          "name": "stdout",
          "text": [
            "{1, 2, 3, 4, 5}\n"
          ]
        }
      ]
    },
    {
      "cell_type": "code",
      "source": [
        "# Write a code to find the intersection of two sets {1, 2, 3} and {2, 3, 4}\n",
        "\n",
        "set1 = {1, 2, 3}\n",
        "set2 = {2, 3, 4}\n",
        "intersection_set = set1.intersection(set2)\n",
        "print(intersection_set)\n"
      ],
      "metadata": {
        "colab": {
          "base_uri": "https://localhost:8080/"
        },
        "id": "_20LAG41tHbv",
        "outputId": "561a1871-c53d-472a-8733-ef67791eeed8"
      },
      "execution_count": 32,
      "outputs": [
        {
          "output_type": "stream",
          "name": "stdout",
          "text": [
            "{2, 3}\n"
          ]
        }
      ]
    },
    {
      "cell_type": "code",
      "source": [
        "# Write a code to create a dictionary with the keys \"name\", \"age\", and \"city\", and print it\n",
        "\n",
        "person = {\n",
        "    \"name\": \"Yaswanth\",\n",
        "    \"age\": 35,\n",
        "    \"city\": \"Hyderabad\"\n",
        "}\n",
        "print(person)\n"
      ],
      "metadata": {
        "colab": {
          "base_uri": "https://localhost:8080/"
        },
        "id": "_XKWWS7WtSX8",
        "outputId": "ea39c2fe-c099-4206-b213-ef50d2567c7d"
      },
      "execution_count": 33,
      "outputs": [
        {
          "output_type": "stream",
          "name": "stdout",
          "text": [
            "{'name': 'Yaswanth', 'age': 35, 'city': 'Hyderabad'}\n"
          ]
        }
      ]
    },
    {
      "cell_type": "code",
      "source": [
        "# Write a code to add a new key-value pair \"country\": \"USA\" to the dictionary {'name': 'John', 'age': 25\n",
        "\n",
        "person = {'name': 'Yaswanth', 'age': 35}\n",
        "person['country'] = 'USA'\n",
        "print(person)\n"
      ],
      "metadata": {
        "colab": {
          "base_uri": "https://localhost:8080/"
        },
        "id": "WcT0c7lStf6a",
        "outputId": "d25c3ed4-e892-4c80-88b1-7a723a33632c"
      },
      "execution_count": 34,
      "outputs": [
        {
          "output_type": "stream",
          "name": "stdout",
          "text": [
            "{'name': 'Yaswanth', 'age': 35, 'country': 'USA'}\n"
          ]
        }
      ]
    },
    {
      "cell_type": "code",
      "source": [
        "# Write a code to access the value associated with the key \"name\" in the dictionary {'name': 'Alice', 'age': 30}\n",
        "\n",
        "person = {'name': 'Alice', 'age': 30}\n",
        "name_value = person['name']\n",
        "print(name_value)\n"
      ],
      "metadata": {
        "colab": {
          "base_uri": "https://localhost:8080/"
        },
        "id": "mlirwlpatzCB",
        "outputId": "7aef2a80-50ee-4486-fef0-95e4d69b3f84"
      },
      "execution_count": 35,
      "outputs": [
        {
          "output_type": "stream",
          "name": "stdout",
          "text": [
            "Alice\n"
          ]
        }
      ]
    },
    {
      "cell_type": "code",
      "source": [
        "# Write a code to remove the key \"age\" from the dictionary {'name': 'Bob', 'age': 22, 'city': 'New York'}\n",
        "\n",
        "person = {'name': 'Bob', 'age': 22, 'city': 'New York'}\n",
        "del person['age']\n",
        "print(person)\n"
      ],
      "metadata": {
        "colab": {
          "base_uri": "https://localhost:8080/"
        },
        "id": "DwcDfeoUt7Om",
        "outputId": "374fa66b-9c36-4c7e-aa27-bbcf41bb3cc7"
      },
      "execution_count": 36,
      "outputs": [
        {
          "output_type": "stream",
          "name": "stdout",
          "text": [
            "{'name': 'Bob', 'city': 'New York'}\n"
          ]
        }
      ]
    },
    {
      "cell_type": "code",
      "source": [
        "# Write a code to check if the key \"city\" exists in the dictionary {'name': 'Alice', 'city': 'Paris'}\n",
        "\n",
        "person = {'name': 'Alice', 'city': 'Paris'}\n",
        "\n",
        "if 'city' in person:\n",
        "    print(\"Key 'city' exists in the dictionary!\")\n",
        "else:\n",
        "    print(\"Key 'city' does not exist.\")\n"
      ],
      "metadata": {
        "colab": {
          "base_uri": "https://localhost:8080/"
        },
        "id": "KzOKaYJ2uIv6",
        "outputId": "bd2a9689-aa57-4323-a638-24baf09226db"
      },
      "execution_count": 37,
      "outputs": [
        {
          "output_type": "stream",
          "name": "stdout",
          "text": [
            "Key 'city' exists in the dictionary!\n"
          ]
        }
      ]
    },
    {
      "cell_type": "code",
      "source": [
        "# Write a code to create a list, a tuple, and a dictionary, and print them all\n",
        "\n",
        "\n",
        "my_list = [1, 2, 3, 4, 5]\n",
        "my_tuple = ('apple', 'banana', 'cherry')\n",
        "my_dict = {'name': 'Alice', 'age': 25, 'city': 'New York'}\n",
        "print(\"List:\", my_list)\n",
        "print(\"Tuple:\", my_tuple)\n",
        "print(\"Dictionary:\", my_dict)\n"
      ],
      "metadata": {
        "colab": {
          "base_uri": "https://localhost:8080/"
        },
        "id": "s4n2dfBDuR-c",
        "outputId": "6513e722-a166-4e02-f326-d540973576dc"
      },
      "execution_count": 38,
      "outputs": [
        {
          "output_type": "stream",
          "name": "stdout",
          "text": [
            "List: [1, 2, 3, 4, 5]\n",
            "Tuple: ('apple', 'banana', 'cherry')\n",
            "Dictionary: {'name': 'Alice', 'age': 25, 'city': 'New York'}\n"
          ]
        }
      ]
    },
    {
      "cell_type": "code",
      "source": [
        "# Write a code to create a list of 5 random numbers between 1 and 100, sort it in ascending order, and print the result ( replaced)\n",
        "\n",
        "random_numbers = [50,5,25,75,89,64]\n",
        "random_numbers.sort()\n",
        "print(random_numbers)"
      ],
      "metadata": {
        "colab": {
          "base_uri": "https://localhost:8080/"
        },
        "id": "jRp6ixzXuiqV",
        "outputId": "d073821c-5769-4394-de0b-db0d844f001f"
      },
      "execution_count": 39,
      "outputs": [
        {
          "output_type": "stream",
          "name": "stdout",
          "text": [
            "[5, 25, 50, 64, 75, 89]\n"
          ]
        }
      ]
    },
    {
      "cell_type": "code",
      "source": [
        "# Write a code to create a list with strings and print the element at the third index\n",
        "\n",
        "words = [\"apple\", \"banana\", \"cherry\", \"orange\", \"blueberry\"]\n",
        "third_element = words[3]\n",
        "print(third_element)"
      ],
      "metadata": {
        "colab": {
          "base_uri": "https://localhost:8080/"
        },
        "id": "FNbLw7hGvJ__",
        "outputId": "805ae1dc-5f9b-4dcc-b6c3-72636b139339"
      },
      "execution_count": 40,
      "outputs": [
        {
          "output_type": "stream",
          "name": "stdout",
          "text": [
            "orange\n"
          ]
        }
      ]
    },
    {
      "cell_type": "code",
      "source": [
        "# Write a code to combine two dictionaries into one and print the result\n",
        "\n",
        "dict1 = {'name': 'Alice', 'age': 25}\n",
        "dict2 = {'city': 'New York', 'country': 'USA'}\n",
        "\n",
        "dict1.update(dict2)\n",
        "print(dict1)\n"
      ],
      "metadata": {
        "colab": {
          "base_uri": "https://localhost:8080/"
        },
        "id": "IbIHAY9rve8d",
        "outputId": "f505765b-e921-4aa7-ea4d-824770b77b17"
      },
      "execution_count": 41,
      "outputs": [
        {
          "output_type": "stream",
          "name": "stdout",
          "text": [
            "{'name': 'Alice', 'age': 25, 'city': 'New York', 'country': 'USA'}\n"
          ]
        }
      ]
    },
    {
      "cell_type": "code",
      "source": [
        "# Write a code to convert a list of strings into a set\n",
        "\n",
        "string_list = [\"apple\", \"banana\", \"cherry\", \"apple\", \"banana\"]\n",
        "string_set = set(string_list)\n",
        "print(string_set)\n",
        "\n"
      ],
      "metadata": {
        "colab": {
          "base_uri": "https://localhost:8080/"
        },
        "id": "bk-n3YDDvooF",
        "outputId": "f6f76a9c-6d3d-47a5-c757-5311285ef158"
      },
      "execution_count": 42,
      "outputs": [
        {
          "output_type": "stream",
          "name": "stdout",
          "text": [
            "{'banana', 'cherry', 'apple'}\n"
          ]
        }
      ]
    },
    {
      "cell_type": "code",
      "source": [],
      "metadata": {
        "id": "BtZRIgnQv4Vp"
      },
      "execution_count": null,
      "outputs": []
    }
  ]
}